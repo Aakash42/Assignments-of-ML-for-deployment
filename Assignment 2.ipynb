{
 "cells": [
  {
   "cell_type": "markdown",
   "metadata": {},
   "source": [
    "### Write a Python Program to implement your own myreduce() function which works exactly like Python's built-in function reduce() \n"
   ]
  },
  {
   "cell_type": "code",
   "execution_count": 23,
   "metadata": {},
   "outputs": [
    {
     "name": "stdout",
     "output_type": "stream",
     "text": [
      "Sum of all element in list a : 15\n",
      "Product of all elements in list a : 120\n"
     ]
    }
   ],
   "source": [
    "#defining the cutom myreduce function\n",
    "def myreduce(fun, alist):\n",
    "    x = alist[0]\n",
    "    \n",
    "    for i in range(1, len(alist)):\n",
    "        x = fun(x, alist[i])\n",
    "    return x\n",
    "#definng sum function to pass to myreduce()\n",
    "def summ(x1, x2):\n",
    "    return x1 + x2\n",
    "#defining product to pass to myreduce()\n",
    "def Product(x1, x2):\n",
    "    return(x1 * x2)\n",
    "\n",
    "#list to be passed to myreduce\n",
    "a = [1, 2, 3, 4, 5]\n",
    "\n",
    "print(\"Sum of all element in list a :\", myreduce(summ, a))\n",
    "print(\"Product of all elements in list a :\", myreduce(Product, a))"
   ]
  },
  {
   "cell_type": "markdown",
   "metadata": {},
   "source": [
    "### Write a Python program to implement your own myfilter() function which works exactly like Python's built-in function filter("
   ]
  },
  {
   "cell_type": "code",
   "execution_count": 22,
   "metadata": {},
   "outputs": [
    {
     "name": "stdout",
     "output_type": "stream",
     "text": [
      " only positive Integers on list [0,-1,-2,3,4,5] found using custom filter function are[3, 4, 5]\n"
     ]
    }
   ],
   "source": [
    "#defining custom myfilter function\n",
    "def myfilter(anyfunc, sequence):\n",
    "    \n",
    "    # Initializing empty list\n",
    "    result = []\n",
    "    # iterate over sequence of items in sequence and apply filter function\n",
    "    for item in sequence:\n",
    "        if anyfunc(item):\n",
    "                result.append(item)\n",
    " \n",
    "    # return final output\n",
    "    return result\n",
    "#funtion that returns only positive numbers\n",
    "def ispositive(x):\n",
    "    if (x > 0):\n",
    "        return x\n",
    "#print the output \n",
    "print (\" only positive Integers on list [0,-1,-2,3,4,5] found using custom filter function are\"  + str(myfilter(ispositive, [0,-1,-2,3,4,5])))\n"
   ]
  },
  {
   "cell_type": "markdown",
   "metadata": {},
   "source": [
    "### Implement List comprehensions to produce the following lists. \n",
    " \n",
    "### Write List comprehensions to produce the following Lists\n",
    "### ['A', 'C', 'A', 'D', 'G', 'I', ’L’, ‘ D’] "
   ]
  },
  {
   "cell_type": "code",
   "execution_count": 12,
   "metadata": {},
   "outputs": [
    {
     "name": "stdout",
     "output_type": "stream",
     "text": [
      "['A', 'C', 'A', 'D', 'G', 'I', 'L', 'D']\n"
     ]
    }
   ],
   "source": [
    "word = \"ACADGILD\"\n",
    "squares = [ a for a in word ]\n",
    "print (squares)"
   ]
  },
  {
   "cell_type": "markdown",
   "metadata": {},
   "source": [
    "### ['x', 'xx', 'xxx', 'xxxx', 'y', 'yy', 'yyy', 'yyyy', 'z', 'zz', 'zzz', 'zzzz']"
   ]
  },
  {
   "cell_type": "code",
   "execution_count": 13,
   "metadata": {},
   "outputs": [
    {
     "name": "stdout",
     "output_type": "stream",
     "text": [
      "['x', 'xx', 'xxx', 'xxxx', 'y', 'yy', 'yyy', 'yyyy', 'z', 'zz', 'zzz', 'zzzz']\n"
     ]
    }
   ],
   "source": [
    "numbers = ['x','y','z']\n",
    "squares=[]\n",
    "\n",
    "squares=[n*i for n in numbers for i in range(1,5)]\n",
    "    \n",
    "print(squares)"
   ]
  },
  {
   "cell_type": "markdown",
   "metadata": {},
   "source": [
    "### ['x', 'y', 'z', 'xx', 'yy', 'zz', 'xxx', 'yyy', 'zzz', 'xxxx', 'yyyy', 'zzzz'] "
   ]
  },
  {
   "cell_type": "code",
   "execution_count": 14,
   "metadata": {},
   "outputs": [
    {
     "name": "stdout",
     "output_type": "stream",
     "text": [
      "['x', 'y', 'z', 'xx', 'yy', 'zz', 'xxx', 'yyy', 'zzz', 'xxxx', 'yyyy', 'zzzz']\n"
     ]
    }
   ],
   "source": [
    "numbers = ['x','y','z']\n",
    "squares=[]\n",
    "\n",
    "squares=[n*i for i in range(1,5) for n in numbers]\n",
    "    \n",
    "print(squares)"
   ]
  },
  {
   "cell_type": "markdown",
   "metadata": {},
   "source": [
    "### [[2], [3], [4], [3], [4], [5], [4], [5], [6]] "
   ]
  },
  {
   "cell_type": "code",
   "execution_count": 15,
   "metadata": {},
   "outputs": [
    {
     "name": "stdout",
     "output_type": "stream",
     "text": [
      "[[2], [3], [4], [3], [4], [5], [4], [5], [6]]\n"
     ]
    }
   ],
   "source": [
    "numbers=[2,3,4]\n",
    "squares=[]\n",
    "\n",
    "squares=[[j+i] for j in numbers for i in range(0,3)]    \n",
    "        \n",
    "print(squares)"
   ]
  },
  {
   "cell_type": "markdown",
   "metadata": {},
   "source": [
    "### [[2, 3, 4, 5], [3, 4, 5, 6], [4, 5, 6, 7], [5, 6, 7, 8]]"
   ]
  },
  {
   "cell_type": "code",
   "execution_count": 16,
   "metadata": {},
   "outputs": [
    {
     "name": "stdout",
     "output_type": "stream",
     "text": [
      "[[2, 3, 4, 5], [3, 4, 5, 6], [4, 5, 6, 7], [5, 6, 7, 8]]\n"
     ]
    }
   ],
   "source": [
    "numbers=[2,3,4,5]\n",
    "squares=[]\n",
    "\n",
    "squares=[[n for n in (j,j+1,j+2,j+3)] for j in numbers]\n",
    "\n",
    "print(squares)"
   ]
  },
  {
   "cell_type": "markdown",
   "metadata": {},
   "source": [
    "### [(1, 1), (2, 1), (3, 1), (1, 2), (2, 2), (3, 2), (1, 3), (2, 3), (3, 3)] "
   ]
  },
  {
   "cell_type": "code",
   "execution_count": 18,
   "metadata": {},
   "outputs": [
    {
     "name": "stdout",
     "output_type": "stream",
     "text": [
      "[(1, 1), (2, 1), (3, 1), (1, 2), (2, 2), (3, 2), (1, 3), (2, 3), (3, 3)]\n"
     ]
    }
   ],
   "source": [
    "numbers=[1,2,3]\n",
    "squares=[]\n",
    "squares=[(j,i) for i in numbers for j in numbers]\n",
    "        \n",
    "print(squares)"
   ]
  },
  {
   "cell_type": "markdown",
   "metadata": {},
   "source": [
    "### Implement a function longestWord() that takes a list of words and returns the longest one. "
   ]
  },
  {
   "cell_type": "code",
   "execution_count": 6,
   "metadata": {},
   "outputs": [
    {
     "name": "stdout",
     "output_type": "stream",
     "text": [
      "Enter a list of elements separated by commas aakash,baglane,machine,learning,data,science\n",
      "The length of the longest word is 8\n"
     ]
    }
   ],
   "source": [
    "#taking input from user\n",
    "input_string = input(\"Enter a list of elements separated by commas \")\n",
    "list  = input_string.split(',')\n",
    "\n",
    "#function to calculate length of longest word\n",
    "def longestWord(words):\n",
    "    a=0\n",
    "    for word in words:\n",
    "        if a<len(word):\n",
    "            a=len(word)\n",
    "    return a\n",
    "\n",
    "print(\"The length of the longest word is {}\".format(longestWord(list)))"
   ]
  },
  {
   "cell_type": "markdown",
   "metadata": {},
   "source": [
    "### Write a Python Program(with class concepts) to find the area of the triangle using the below formula. \n",
    " \n",
    "area = (s*(s-a)*(s-b)*(s-c)) ** 0.5 \n",
    " \n",
    "Function to take the length of the sides of triangle from user should be defined in the parent class and function to calculate the area should be defined in subclass. "
   ]
  },
  {
   "cell_type": "code",
   "execution_count": 11,
   "metadata": {},
   "outputs": [
    {
     "name": "stdout",
     "output_type": "stream",
     "text": [
      "Enter length of side1 2\n",
      "Enter length of side2 3\n",
      "Enter length of side3 4\n",
      "The area of the triangle is 2.904738\n"
     ]
    }
   ],
   "source": [
    "import math\n",
    "\n",
    "#class to take user's input\n",
    "class triangle():\n",
    "    def __init__(self,x,y,z):\n",
    "        self.side1=x\n",
    "        self.side2=y\n",
    "        self.side3=z  \n",
    "        \n",
    "#class to calculate area of triangle \n",
    "class area(triangle):\n",
    "    def __init__(self,x,y,z):\n",
    "        triangle.__init__(self,x,y,z)\n",
    "    def findArea(self):\n",
    "        a = self.side1\n",
    "        b = self.side2\n",
    "        c = self.side3\n",
    "        # calculate the semi-perimeter\n",
    "        s = (a + b + c) / 2\n",
    "        area = (s*(s-a)*(s-b)*(s-c)) ** 0.5\n",
    "        print('The area of the triangle is %f' %area)\n",
    "#taking input from user \n",
    "x=int(input(\"Enter length of side 1 \"))\n",
    "y=int(input(\"Enter length of side 2 \"))\n",
    "z=int(input(\"Enter length of side 3 \"))\n",
    "\n",
    "#creating objects of class area calling function findA\n",
    "obj2=area(x,y,z)\n",
    "obj2.findArea()"
   ]
  },
  {
   "cell_type": "markdown",
   "metadata": {},
   "source": [
    "### Write a function filter_long_words() that takes a list of words and an integer n and returns the list of words that are longer than n."
   ]
  },
  {
   "cell_type": "code",
   "execution_count": 10,
   "metadata": {},
   "outputs": [
    {
     "name": "stdout",
     "output_type": "stream",
     "text": [
      "Enter a list of elements separated by commas data,science,machine,learning,pune,bangalore,india\n",
      "enter a number6\n",
      "['science', 'machine', 'learning', 'bangalore']\n"
     ]
    }
   ],
   "source": [
    "#taking input from user\n",
    "input_string = input(\"Enter a list of elements separated by commas \")\n",
    "list  = input_string.split(',')\n",
    "n=int(input(\"enter a number\"))\n",
    "#list to store words with lengths longer than n\n",
    "lst=[]\n",
    "#function to calculate length of longest word\n",
    "def filter_long_words(words,n):\n",
    "    \n",
    "    for word in words:\n",
    "        if n<len(word):\n",
    "            lst.append(word)\n",
    "    return lst       \n",
    "#printing the list of words with lengths longer than n\n",
    "print(filter_long_words(list,n))    \n",
    "            \n",
    "    \n"
   ]
  },
  {
   "cell_type": "markdown",
   "metadata": {},
   "source": [
    "### Write a Python program using function concept that maps  list of words into a list of integers representing the lengths of the corresponding words​. "
   ]
  },
  {
   "cell_type": "code",
   "execution_count": 5,
   "metadata": {},
   "outputs": [
    {
     "name": "stdout",
     "output_type": "stream",
     "text": [
      "Enter a list element separated by commas aakash,baglane,machine,learning\n",
      "[6, 7, 7, 8]\n"
     ]
    }
   ],
   "source": [
    "#Function to convert words to their lengths\n",
    "def lenofwords(word):\n",
    "    return len(word)\n",
    "\n",
    "#TAKING INPUT FROM USER INTO input_string\n",
    "input_string = input(\"Enter a list element separated by commas \")\n",
    "list  = input_string.split(',')\n",
    "lengths=[]\n",
    "\n",
    "#Using map function\n",
    "for ch in map(lenofwords,list):\n",
    "    lengths.append(ch)\n",
    "#printing the output    \n",
    "print(lengths)"
   ]
  },
  {
   "cell_type": "markdown",
   "metadata": {},
   "source": [
    "### Write a Python function which takes a character (i.e. a string of length 1) and returns True if it is a vowel, False otherwise."
   ]
  },
  {
   "cell_type": "code",
   "execution_count": 2,
   "metadata": {},
   "outputs": [
    {
     "name": "stdout",
     "output_type": "stream",
     "text": [
      "Enter a characterA\n",
      "True\n"
     ]
    }
   ],
   "source": [
    "#Function to check whether the entered character is a vowel\n",
    "def checker(string):\n",
    "    if (string =='a' or string=='e'or string=='i' or string=='o'or string=='u' or string=='A' or string=='E' or string=='I' or string=='O' or string=='U'):\n",
    "        return True\n",
    "    else:\n",
    "        return False\n",
    "    \n",
    "#Taking input from the user\n",
    "s=input(\"Enter a character\")\n",
    "#Calling the function\n",
    "print(checker(s))"
   ]
  },
  {
   "cell_type": "code",
   "execution_count": null,
   "metadata": {},
   "outputs": [],
   "source": []
  }
 ],
 "metadata": {
  "kernelspec": {
   "display_name": "Python 3",
   "language": "python",
   "name": "python3"
  },
  "language_info": {
   "codemirror_mode": {
    "name": "ipython",
    "version": 3
   },
   "file_extension": ".py",
   "mimetype": "text/x-python",
   "name": "python",
   "nbconvert_exporter": "python",
   "pygments_lexer": "ipython3",
   "version": "3.7.3"
  }
 },
 "nbformat": 4,
 "nbformat_minor": 2
}
