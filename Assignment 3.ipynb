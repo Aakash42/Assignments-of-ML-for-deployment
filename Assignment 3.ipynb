{
 "cells": [
  {
   "cell_type": "markdown",
   "metadata": {},
   "source": [
    "### Write a function to compute 5/0 and use try/except to catch the exceptions"
   ]
  },
  {
   "cell_type": "code",
   "execution_count": 5,
   "metadata": {},
   "outputs": [
    {
     "name": "stdout",
     "output_type": "stream",
     "text": [
      "division by zero\n"
     ]
    }
   ],
   "source": [
    "#function definition\n",
    "def compzero():\n",
    "    #try and except block\n",
    "    try:\n",
    "        x = 5 / 0\n",
    "    except ZeroDivisionError as e:\n",
    "        print(e)\n",
    "#calling the function    \n",
    "compzero()\n"
   ]
  },
  {
   "cell_type": "markdown",
   "metadata": {},
   "source": [
    "### Implement a Python program to generate all sentences where subject is in [\"Americans\", \"Indians\"] and verb is in [\"Play\", \"watch\"] and the object is in [\"Baseball\",\"cricket\"]. "
   ]
  },
  {
   "cell_type": "code",
   "execution_count": 1,
   "metadata": {},
   "outputs": [
    {
     "name": "stdout",
     "output_type": "stream",
     "text": [
      "Americans  play Baseball\n",
      "Americans  play Cricket\n",
      "Americans  watch Baseball\n",
      "Americans  watch Cricket\n",
      "Indians play Baseball\n",
      "Indians play Cricket\n",
      "Indians watch Baseball\n",
      "Indians watch Cricket\n"
     ]
    }
   ],
   "source": [
    "#defining the list of subjects\n",
    "subjects=[\"Americans \",\"Indians\"]\n",
    "#defining the list of verbs\n",
    "verbs=[\"play\",\"watch\"]\n",
    "#defining the list of objects\n",
    "objects=[\"Baseball\",\"Cricket\"]\n",
    "\n",
    "#creating nested loops\n",
    "for i in subjects:\n",
    "    for j in verbs:\n",
    "        for k in objects:\n",
    "            print(i+\" \"+j+\" \"+k)"
   ]
  },
  {
   "cell_type": "markdown",
   "metadata": {},
   "source": [
    "### Write a function so that the columns of the output matrix are powers of the input vector.  \n",
    "### The order of the powers is determined by the increasing boolean argument. Specifically, when              increasing is False, the i-th output column is the input vector raised element-wise to the power of N - i - 1.  \n",
    " "
   ]
  },
  {
   "cell_type": "code",
   "execution_count": 6,
   "metadata": {},
   "outputs": [
    {
     "name": "stdout",
     "output_type": "stream",
     "text": [
      "Enter a vector3,5,9\n",
      "Enter True or FalseFalse\n",
      "Enter a power5\n",
      "[[  81   27    9    3    1]\n",
      " [ 625  125   25    5    1]\n",
      " [6561  729   81    9    1]]\n"
     ]
    }
   ],
   "source": [
    "import numpy as np\n",
    "#taking the vector as input\n",
    "ip=(input(\"Enter a vector\"))\n",
    "lst=ip.split(\",\")\n",
    "#converting elements of list from string to integers\n",
    "for i in range(0, len(lst)): \n",
    "    lst[i] = int(lst[i])\n",
    "#creating array of input vector    \n",
    "x = np.array(lst)\n",
    "\n",
    "#function to form matrix\n",
    "def powcheck(x,increasing):\n",
    "    #taking power as inout\n",
    "    N=int(input(\"Enter a power\"))\n",
    "    \n",
    "    if increasing==True:\n",
    "        print(np.column_stack([x**(N-1-i) for i in range(N)]))\n",
    "    else:\n",
    "        print(np.column_stack([x**(i) for i in range(N)]))\n",
    "    \n",
    "#taking True or False as input\n",
    "increasing=bool(input(\"Enter True or False\"))\n",
    "#calling the function    \n",
    "powcheck(x,increasing)"
   ]
  }
 ],
 "metadata": {
  "kernelspec": {
   "display_name": "Python 3",
   "language": "python",
   "name": "python3"
  },
  "language_info": {
   "codemirror_mode": {
    "name": "ipython",
    "version": 3
   },
   "file_extension": ".py",
   "mimetype": "text/x-python",
   "name": "python",
   "nbconvert_exporter": "python",
   "pygments_lexer": "ipython3",
   "version": "3.7.3"
  }
 },
 "nbformat": 4,
 "nbformat_minor": 2
}
